{
 "cells": [
  {
   "cell_type": "code",
   "execution_count": 1,
   "id": "68e5aefa",
   "metadata": {},
   "outputs": [],
   "source": [
    "things = [\"mozzarella\",\"cinderella\",\"salmonella\"]"
   ]
  },
  {
   "cell_type": "code",
   "execution_count": 2,
   "id": "009d5f21",
   "metadata": {},
   "outputs": [
    {
     "name": "stdout",
     "output_type": "stream",
     "text": [
      "['mozzarella', 'Cinderella', 'salmonella']\n"
     ]
    }
   ],
   "source": [
    "things = [\"mozzarella\", \"cinderella\", \"salmonella\"]\n",
    "\n",
    "# Capitalizing the element that refers to a person \n",
    "for i in range(len(things)):\n",
    "    if \"cinderella\" in things[i]:\n",
    "        things[i] = things[i].capitalize() # using the capitalize()to capitalize the element\n",
    "\n",
    "# Printing the updated list\n",
    "print(things)\n"
   ]
  },
  {
   "cell_type": "code",
   "execution_count": 3,
   "id": "b08319f5",
   "metadata": {},
   "outputs": [
    {
     "name": "stdout",
     "output_type": "stream",
     "text": [
      "['MOZZARELLA', 'cinderella', 'salmonella']\n"
     ]
    }
   ],
   "source": [
    "things = [\"mozzarella\", \"cinderella\", \"salmonella\"]\n",
    "\n",
    "# Making the mozzarella element all uppercase\n",
    "for i in range(len(things)):\n",
    "    if \"mozzarella\" in things[i]:\n",
    "        things[i] = things[i].upper() # using the upper()to upercase the element \n",
    "\n",
    "# Printing the updated list\n",
    "print(things)\n"
   ]
  },
  {
   "cell_type": "code",
   "execution_count": 4,
   "id": "7cbdda05",
   "metadata": {},
   "outputs": [
    {
     "name": "stdout",
     "output_type": "stream",
     "text": [
      "['mozzarella', 'cinderella']\n"
     ]
    }
   ],
   "source": [
    "things = [\"mozzarella\", \"cinderella\", \"salmonella\"]\n",
    "\n",
    "# Removing the salmonella element from the list\n",
    "things.remove(\"salmonella\") # Using the remove() to remove salmonella \n",
    "\n",
    "# Printing the updated list\n",
    "print(things)\n"
   ]
  },
  {
   "cell_type": "code",
   "execution_count": 5,
   "id": "74401225",
   "metadata": {},
   "outputs": [
    {
     "name": "stdout",
     "output_type": "stream",
     "text": [
      "['Harry', 'Ron', 'Harmione']\n"
     ]
    }
   ],
   "source": [
    "def good():\n",
    "    return [\"Harry\", \"Ron\", \"Harmione\"] # Defining the function called good to return Harry, Ron, and Harmione\n",
    "\n",
    "good_list = good() # Calling the function to get the list \n",
    "\n",
    "print(good_list) # Printing the list "
   ]
  },
  {
   "cell_type": "code",
   "execution_count": 6,
   "id": "834d6347",
   "metadata": {},
   "outputs": [
    {
     "name": "stdout",
     "output_type": "stream",
     "text": [
      "The third odd number is: 5\n"
     ]
    }
   ],
   "source": [
    "def get_odds(): # defining the function to yeild the odd numbers from range(10)\n",
    "    for num in range(10):\n",
    "        if num % 2 != 0:\n",
    "            yield num\n",
    "\n",
    "# Using a for loop to find and print the third value returned\n",
    "count = 0\n",
    "for odd_number in get_odds():\n",
    "    count += 1\n",
    "    if count == 3:\n",
    "        print(\"The third odd number is:\", odd_number)\n",
    "        break\n"
   ]
  }
 ],
 "metadata": {
  "kernelspec": {
   "display_name": "Python 3 (ipykernel)",
   "language": "python",
   "name": "python3"
  },
  "language_info": {
   "codemirror_mode": {
    "name": "ipython",
    "version": 3
   },
   "file_extension": ".py",
   "mimetype": "text/x-python",
   "name": "python",
   "nbconvert_exporter": "python",
   "pygments_lexer": "ipython3",
   "version": "3.11.4"
  }
 },
 "nbformat": 4,
 "nbformat_minor": 5
}
